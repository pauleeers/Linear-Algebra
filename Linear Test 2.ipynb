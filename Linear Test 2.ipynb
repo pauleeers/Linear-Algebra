{
 "cells": [
  {
   "cell_type": "code",
   "execution_count": 47,
   "metadata": {},
   "outputs": [],
   "source": [
    "import numpy as np\n",
    "import sympy\n",
    "import re\n",
    "from fractions import Fraction"
   ]
  },
  {
   "cell_type": "markdown",
   "metadata": {},
   "source": [
    "Core Testing"
   ]
  },
  {
   "cell_type": "markdown",
   "metadata": {},
   "source": [
    ">Solution Function"
   ]
  },
  {
   "cell_type": "markdown",
   "metadata": {},
   "source": [
    ">>Solution Function 1"
   ]
  },
  {
   "cell_type": "code",
   "execution_count": 9,
   "metadata": {},
   "outputs": [],
   "source": [
    "def solve_linear_equations(coefficients, constants):\n",
    "    try:\n",
    "        # Trying to find a unique solution\n",
    "        solution = np.linalg.solve(coefficients, constants)\n",
    "    except np.linalg.LinAlgError:\n",
    "        # Handle overdetermined systems\n",
    "        solution, _, _, _ = np.linalg.lstsq(coefficients, constants, rcond=None)\n",
    "    \n",
    "    return solution\n"
   ]
  },
  {
   "cell_type": "markdown",
   "metadata": {},
   "source": [
    ">>Solution Function 2"
   ]
  },
  {
   "cell_type": "code",
   "execution_count": 17,
   "metadata": {},
   "outputs": [],
   "source": [
    "def solve_linear_equations(coefficients, constants):\n",
    "    try:\n",
    "        # Trying to find a unique solution\n",
    "        solution = np.linalg.solve(coefficients, constants)\n",
    "        return solution, \"Unique solution\"\n",
    "    except np.linalg.LinAlgError as e:\n",
    "        if 'Singular matrix' in str(e):\n",
    "            # This means the matrix is singular and there's no unique solution\n",
    "            # This can be due to no solutions or infinite solutions\n",
    "            # We'll use lstsq to determine which one it is\n",
    "            solution, residuals, rank, s = np.linalg.lstsq(coefficients, constants, rcond=None)\n",
    "            if residuals.size == 0 or np.allclose(residuals, 0):\n",
    "                return solution, \"Infinite solutions\"\n",
    "            else:\n",
    "                return solution, \"No solution\"\n",
    "        else:\n",
    "            # This is some other kind of linear algebra error we didn't expect\n",
    "            raise"
   ]
  },
  {
   "cell_type": "markdown",
   "metadata": {},
   "source": [
    ">>>Solution Function 3 (Handles Non-square Matrix)"
   ]
  },
  {
   "cell_type": "code",
   "execution_count": 23,
   "metadata": {},
   "outputs": [],
   "source": [
    "def solve_linear_equations(coefficients, constants):\n",
    "    # If matrix is not square, use lstsq to find the least squares solution\n",
    "    if coefficients.shape[0] != coefficients.shape[1]:\n",
    "        solution, residuals, rank, s = np.linalg.lstsq(coefficients, constants, rcond=None)\n",
    "        if residuals.size == 0 or np.allclose(residuals, 0):\n",
    "            return solution, \"Infinite solutions\"\n",
    "        else:\n",
    "            return solution, \"No solution\"\n",
    "    else:\n",
    "        try:\n",
    "            solution = np.linalg.solve(coefficients, constants)\n",
    "            return solution, \"Unique solution\"\n",
    "        except np.linalg.LinAlgError as e:\n",
    "            if 'Singular matrix' in str(e):\n",
    "                return None, \"No solution\"\n",
    "            else:\n",
    "                raise"
   ]
  },
  {
   "cell_type": "markdown",
   "metadata": {},
   "source": [
    ">>>Solution Function 4 (Handles Parametrics)"
   ]
  },
  {
   "cell_type": "code",
   "execution_count": 49,
   "metadata": {},
   "outputs": [],
   "source": [
    "def solve_linear_equations(coefficients, constants):\n",
    "    # Perform Gaussian elimination or row reduction to obtain RREF\n",
    "    rref_matrix = np.hstack((coefficients, constants.reshape(-1, 1)))\n",
    "    rref_matrix = sympy.Matrix(rref_matrix).rref()[0]\n",
    "    rref_matrix = np.array(rref_matrix.tolist(), dtype=float)\n",
    "\n",
    "    num_rows, num_cols = rref_matrix.shape\n",
    "    free_vars = num_cols - num_rows - 1  # -1 for the constants column\n",
    "\n",
    "    if free_vars > 0:\n",
    "        # Infinite solutions, proceed to express in terms of free variables\n",
    "        solution_set = []\n",
    "        for i in range(num_rows):\n",
    "            leading_coeff = rref_matrix[i][i]\n",
    "            expression = f\"{rref_matrix[i, -1]/leading_coeff}\"\n",
    "            for j in range(i + 1, num_cols - 1):\n",
    "                if rref_matrix[i, j] != 0:\n",
    "                    expression += f\" - {rref_matrix[i, j]/leading_coeff}*x{j+1}\"\n",
    "            solution_set.append(expression)\n",
    "        # Add the free variables\n",
    "        for i in range(free_vars):\n",
    "            solution_set.append(f\"x{num_rows+i+1}\")\n",
    "        \n",
    "        parametric_solution = ', '.join(solution_set)\n",
    "        return parametric_solution, \"Infinite solutions\"\n",
    "    else:\n",
    "        # No free variables, system has a unique solution\n",
    "        solution = np.linalg.solve(coefficients, constants)\n",
    "        return solution, \"Unique solution\"\n"
   ]
  },
  {
   "cell_type": "markdown",
   "metadata": {},
   "source": [
    ">>>Solution Function 5 (Handles Inconsistent/No Solution) **WORKING - IN USE**"
   ]
  },
  {
   "cell_type": "code",
   "execution_count": 74,
   "metadata": {},
   "outputs": [],
   "source": [
    "def solve_linear_equations(coefficients, constants):\n",
    "    # Augment the coefficients matrix with the constants vector\n",
    "    augmented_matrix = np.hstack((coefficients, constants.reshape(-1, 1)))\n",
    "    # Convert to a sympy Matrix and compute the RREF\n",
    "    rref_matrix, pivot_columns = sympy.Matrix(augmented_matrix).rref()\n",
    "    rref_matrix = np.array(rref_matrix.tolist(), dtype=float)\n",
    "\n",
    "    # Check for inconsistency: a row of zeros in coefficients with a non-zero constant\n",
    "    for i in range(len(rref_matrix)):\n",
    "        if np.allclose(rref_matrix[i, :-1], 0) and not np.isclose(rref_matrix[i, -1], 0):\n",
    "            return None, \"No solution\"\n",
    "\n",
    "    num_rows, num_cols = rref_matrix.shape\n",
    "    free_vars = num_cols - num_rows - 1  # -1 for the constants column\n",
    "\n",
    "    if free_vars > 0:\n",
    "        # Infinite solutions, proceed to express in terms of free variables\n",
    "        solution_set = []\n",
    "        for i in range(num_rows):\n",
    "            if i in pivot_columns:\n",
    "                leading_coeff = rref_matrix[i][i]\n",
    "                expression = f\"{rref_matrix[i, -1]/leading_coeff}\"\n",
    "                for j in range(i + 1, num_cols - 1):\n",
    "                    if rref_matrix[i, j] != 0:\n",
    "                        expression += f\" - {rref_matrix[i, j]/leading_coeff}*x{j+1}\"\n",
    "                solution_set.append(expression)\n",
    "        # Add expressions for free variables\n",
    "        for i in range(num_rows, num_cols - 1):  # -1 to exclude the constants column\n",
    "            if i not in pivot_columns:\n",
    "                solution_set.append(f\"x{i+1} is a free variable\")\n",
    "        \n",
    "        parametric_solution = ', '.join(solution_set)\n",
    "        return parametric_solution, \"Infinite solutions\"\n",
    "    elif len(pivot_columns) == num_rows:\n",
    "        # Unique solution, extract it from the last column of the RREF\n",
    "        unique_solution = rref_matrix[:, -1]\n",
    "        return unique_solution, \"Unique solution\"\n",
    "    else:\n",
    "        # Underdetermined system with no unique solution\n",
    "        return None, \"Infinite solutions, cannot express as unique solution\"\n"
   ]
  },
  {
   "cell_type": "markdown",
   "metadata": {},
   "source": [
    "System Size Checking Function"
   ]
  },
  {
   "cell_type": "code",
   "execution_count": null,
   "metadata": {},
   "outputs": [],
   "source": [
    "def check_system_size(num_equations, num_variables):\n",
    "    if num_variables > 5 or num_equations > 5:\n",
    "        raise ValueError(\"This system can only handle up to a 5x5 matrix.\")\n",
    "    if num_variables < 1 or num_equations < 1:\n",
    "        raise ValueError(\"This system requires at least a 1x1 matrix.\")\n"
   ]
  },
  {
   "cell_type": "markdown",
   "metadata": {},
   "source": [
    "Solution Formating Function"
   ]
  },
  {
   "cell_type": "code",
   "execution_count": 41,
   "metadata": {},
   "outputs": [],
   "source": [
    "def format_parametric_solution(solution_str):\n",
    "    # Split the solution string into individual variable components\n",
    "    variables = solution_str.split(',')\n",
    "\n",
    "    # Define a pattern to match the variables like 'x4' and 'x5'\n",
    "    var_pattern = re.compile(r'x\\d+')\n",
    "\n",
    "    formatted_solution = []\n",
    "\n",
    "    for i, var in enumerate(variables):\n",
    "        # Find all free variables in the expression\n",
    "        free_vars = var_pattern.findall(var)\n",
    "\n",
    "        # Correctly identify negative and positive floats\n",
    "        expr = re.sub(r'(?<!\\w)-?\\d+\\.\\d+', lambda m: f\"{float(m.group(0)):0.3f}\", var)\n",
    "\n",
    "        # If the variable part is a free variable, format it accordingly\n",
    "        if i + 1 in [int(free_var[1:]) for free_var in free_vars]:\n",
    "            formatted_solution.append(f\"x{i+1} is a free variable\")\n",
    "        else:\n",
    "            # Remove unnecessary pluses and correct double negatives\n",
    "            expr = expr.replace(' - -', ' + ').replace('+-', '-')\n",
    "            formatted_solution.append(f\"x{i+1} = {expr.strip()}\")\n",
    "\n",
    "    return formatted_solution"
   ]
  },
  {
   "cell_type": "markdown",
   "metadata": {},
   "source": [
    ">Solution Formating 2 (Parametric w/ fractions) **WORKING - IN USE**"
   ]
  },
  {
   "cell_type": "code",
   "execution_count": 80,
   "metadata": {},
   "outputs": [],
   "source": [
    "def format_parametric_solution(solution_str):\n",
    "    # Split the solution string into individual variable components\n",
    "    variables = solution_str.split(',')\n",
    "\n",
    "    # Define a pattern to match the variables like 'x4' and 'x5'\n",
    "    var_pattern = re.compile(r'x\\d+')\n",
    "\n",
    "    formatted_solution = []\n",
    "\n",
    "    for i, var in enumerate(variables):\n",
    "        # Find all free variables in the expression\n",
    "        free_vars = var_pattern.findall(var)\n",
    "\n",
    "        # Correctly identify negative and positive floats\n",
    "        expr = re.sub(r'(?<!\\w)-?\\d+\\.\\d+', lambda m: str(Fraction(float(m.group(0))).limit_denominator()), var)\n",
    "\n",
    "        # If the variable part is a free variable, format it accordingly\n",
    "        if i + 1 in [int(free_var[1:]) for free_var in free_vars]:\n",
    "            formatted_solution.append(f\"x{i+1} is a free variable\")\n",
    "        else:\n",
    "            # Remove unnecessary pluses and correct double negatives\n",
    "            expr = expr.replace(' - -', ' + ').replace('+-', '-')\n",
    "            formatted_solution.append(f\"x{i+1} = {expr.strip()}\")\n",
    "\n",
    "    return formatted_solution"
   ]
  },
  {
   "cell_type": "markdown",
   "metadata": {},
   "source": [
    "Input Segment"
   ]
  },
  {
   "cell_type": "code",
   "execution_count": 24,
   "metadata": {},
   "outputs": [],
   "source": [
    "num_variables = int(input(\"Enter the number of variables (up to 5): \"))\n",
    "num_equations = int(input(\"Enter the number of equations: \"))"
   ]
  },
  {
   "cell_type": "code",
   "execution_count": 25,
   "metadata": {},
   "outputs": [],
   "source": [
    "coefficients = []\n",
    "constants = []\n",
    "\n",
    "for i in range(num_equations):\n",
    "    equation = input(f\"Enter coefficients and constant for equation {i+1}, separated by space: \")\n",
    "    values = [float(x) for x in equation.split()]\n",
    "    coefficients.append(values[:-1])  # All but last\n",
    "    constants.append(values[-1])      # Last element"
   ]
  },
  {
   "cell_type": "code",
   "execution_count": 19,
   "metadata": {},
   "outputs": [],
   "source": [
    "coefficients = []\n",
    "constants = []\n",
    "\n",
    "for i in range(num_equations):\n",
    "    # Ask the user to enter only the coefficients and constants as numbers separated by spaces\n",
    "    equation = input(f\"Enter the coefficients for equation {i+1} followed by the constant, separated by space: \")\n",
    "    \n",
    "    # Split the input string by spaces, convert each to a float, and append to the lists\n",
    "    values = [float(x) for x in equation.split()]\n",
    "    \n",
    "    # Assuming the last number is the constant, and the rest are coefficients\n",
    "    coefficients.append(values[:-1])  # All but last\n",
    "    constants.append(values[-1])      # Last element\n"
   ]
  },
  {
   "cell_type": "code",
   "execution_count": 26,
   "metadata": {},
   "outputs": [],
   "source": [
    "coefficients_array = np.array(coefficients)\n",
    "constants_array = np.array(constants)"
   ]
  },
  {
   "cell_type": "code",
   "execution_count": 27,
   "metadata": {},
   "outputs": [
    {
     "name": "stdout",
     "output_type": "stream",
     "text": [
      "Solution: (array([ 0.16975854,  0.91372203, -0.21481154,  0.41740283,  0.14355124]), 'Infinite solutions')\n"
     ]
    }
   ],
   "source": [
    "solution = solve_linear_equations(coefficients_array, constants_array)\n",
    "print(\"Solution:\", solution)"
   ]
  },
  {
   "cell_type": "markdown",
   "metadata": {},
   "source": [
    "Test"
   ]
  },
  {
   "cell_type": "markdown",
   "metadata": {},
   "source": [
    "2x + 3y - z + w - 2v = 4\n",
    "\n",
    "4x - y + 5z - 2w + v = -2\n",
    "\n",
    "-x + 2y + 3z + w - 3v = 1"
   ]
  },
  {
   "cell_type": "code",
   "execution_count": 32,
   "metadata": {},
   "outputs": [],
   "source": [
    "# Test:\n",
    "coefficients_array = np.array([\n",
    "    [2, 3, -1, 1, -2],\n",
    "    [4, -1, 5, -2, 1],\n",
    "    [-1, 2, 3, 1, -3]\n",
    "])\n",
    "\n",
    "constants_array = np.array([4, -2, 1])"
   ]
  },
  {
   "cell_type": "code",
   "execution_count": 35,
   "metadata": {},
   "outputs": [
    {
     "name": "stdout",
     "output_type": "stream",
     "text": [
      "Status: Infinite solutions\n"
     ]
    }
   ],
   "source": [
    "solution, status = solve_linear_equations(coefficients_array, constants_array)\n",
    "print(\"Status:\", status)"
   ]
  },
  {
   "cell_type": "code",
   "execution_count": 36,
   "metadata": {},
   "outputs": [
    {
     "name": "stdout",
     "output_type": "stream",
     "text": [
      "Solution: 0.19047619047619047 - -0.27380952380952384*x4 - 0.32142857142857145*x5, 1.0952380952380953 - 0.4880952380952381*x4 - -0.9642857142857143*x5, -0.3333333333333333 - -0.08333333333333333*x4 - -0.25*x5, x4, x5\n"
     ]
    }
   ],
   "source": [
    "print(\"Solution:\", solution)"
   ]
  },
  {
   "cell_type": "code",
   "execution_count": 46,
   "metadata": {},
   "outputs": [
    {
     "name": "stdout",
     "output_type": "stream",
     "text": [
      "x1 = 0.190 + 0.274*x4 - 0.321*x5\n",
      "x2 = 1.095 - 0.488*x4 + 0.964*x5\n",
      "x3 = -0.333 + 0.083*x4 + 0.250*x5\n",
      "x4 is a free variable\n",
      "x5 is a free variable\n"
     ]
    }
   ],
   "source": [
    "# Format the parametric solution\n",
    "formatted_solution = format_parametric_solution(str(solution))\n",
    "\n",
    "# Print the formatted solution\n",
    "for line in formatted_solution:\n",
    "    print(line)\n"
   ]
  },
  {
   "cell_type": "code",
   "execution_count": 51,
   "metadata": {},
   "outputs": [
    {
     "name": "stdout",
     "output_type": "stream",
     "text": [
      "x1 = 4/21 + 23/84*x4 - 9/28*x5\n",
      "x2 = 23/21 - 41/84*x4 + 27/28*x5\n",
      "x3 = -1/3 + 1/12*x4 + 1/4*x5\n",
      "x4 is a free variable\n",
      "x5 is a free variable\n"
     ]
    }
   ],
   "source": [
    "# Format the parametric solution\n",
    "formatted_solution = format_parametric_solution(str(solution))\n",
    "\n",
    "# Print the formatted solution\n",
    "for line in formatted_solution:\n",
    "    print(line)\n"
   ]
  },
  {
   "cell_type": "markdown",
   "metadata": {},
   "source": [
    "***TESTS:***"
   ]
  },
  {
   "cell_type": "markdown",
   "metadata": {},
   "source": [
    "Unique Solution (5x5 system)"
   ]
  },
  {
   "cell_type": "markdown",
   "metadata": {},
   "source": [
    "x + 2y + 3z - w + v = 1\n",
    "\n",
    "2x - y + z + w - 3v = -1\n",
    "\n",
    "3x + y - z - 2w + 2v = 3\n",
    "\n",
    "-x + 3y + 2z + w + v = 4\n",
    "\n",
    "x - y - z - w + v = 0"
   ]
  },
  {
   "cell_type": "code",
   "execution_count": 57,
   "metadata": {},
   "outputs": [
    {
     "name": "stdout",
     "output_type": "stream",
     "text": [
      "Status: Unique solution\n",
      "Solution: [ 1.25454545  0.83636364 -0.76363636  2.72727273  1.54545455]\n",
      "x1 = [ 69/55  46/55 -42/55  30/11  17/11]\n"
     ]
    }
   ],
   "source": [
    "# Test:\n",
    "coefficients_array = np.array([\n",
    "    [1, 2, 3, -1, 2],\n",
    "    [2, -1, 1, 1, -3],\n",
    "    [3, 1, -1, -2, 2],\n",
    "    [-1, 3, 2, 1, 1],\n",
    "    [1, -1, -1, -1, 1]\n",
    "])\n",
    "\n",
    "constants_array = np.array([1, -1, 3, 4, 0])\n",
    "solution, status = solve_linear_equations(coefficients_array, constants_array)\n",
    "print(\"Status:\", status)\n",
    "print(\"Solution:\", solution)\n",
    "# Format the parametric solution\n",
    "formatted_solution = format_parametric_solution(str(solution))\n",
    "\n",
    "# Print the formatted solution\n",
    "for line in formatted_solution:\n",
    "    print(line)\n"
   ]
  },
  {
   "cell_type": "markdown",
   "metadata": {},
   "source": [
    "Infinite Solutions (3 equations, 5 variables) "
   ]
  },
  {
   "cell_type": "markdown",
   "metadata": {},
   "source": [
    "2x + 3y - z + w - 2v = 4\n",
    "\n",
    "4x - y + 5z - 2w + v = -2\n",
    "\n",
    "4x + 3y - 2z + 2w - 2v = 10"
   ]
  },
  {
   "cell_type": "code",
   "execution_count": 75,
   "metadata": {},
   "outputs": [
    {
     "name": "stdout",
     "output_type": "stream",
     "text": [
      "Status: Infinite solutions\n",
      "Solution: 1.9523809523809523 - 0.21428571428571427*x4 - 0.023809523809523808*x5, -0.6666666666666666 - -0.6666666666666666*x5, -2.0952380952380953 - -0.5714285714285714*x4 - 0.047619047619047616*x5, x4 is a free variable, x5 is a free variable\n",
      "x1 = 41/21 - 3/14*x4 - 1/42*x5\n",
      "x2 = -2/3 + 2/3*x5\n",
      "x3 = -44/21 + 4/7*x4 - 1/21*x5\n",
      "x4 is a free variable\n",
      "x5 is a free variable\n"
     ]
    }
   ],
   "source": [
    "# Test:\n",
    "coefficients_array = np.array([\n",
    "    [2, 3, -1, 1, -2],\n",
    "    [4, -1, 5, -2, 1],\n",
    "    [4, 3, -2, 2, -2]\n",
    "])\n",
    "\n",
    "constants_array = np.array([4, -2, 10])\n",
    "\n",
    "solution, status = solve_linear_equations(coefficients_array, constants_array)\n",
    "print(\"Status:\", status)\n",
    "print(\"Solution:\", solution)\n",
    "# Format the parametric solution\n",
    "formatted_solution = format_parametric_solution(str(solution))\n",
    "\n",
    "# Print the formatted solution\n",
    "for line in formatted_solution:\n",
    "    print(line)\n"
   ]
  },
  {
   "cell_type": "markdown",
   "metadata": {},
   "source": [
    "Infinite Solutions (3 equations, 5 variables with dependencies)\n",
    "\n",
    "2x + 3y - z + w - 2v = 4\n",
    "\n",
    "4x + 6y - 2z + 2w - 4v = 8\n",
    "\n",
    "-2x - 3y + z - w + 2v = -4"
   ]
  },
  {
   "cell_type": "code",
   "execution_count": 76,
   "metadata": {},
   "outputs": [
    {
     "name": "stdout",
     "output_type": "stream",
     "text": [
      "Status: Infinite solutions\n",
      "Solution: 2.0 - 1.5*x2 - -0.5*x3 - 0.5*x4 - -1.0*x5, x4 is a free variable, x5 is a free variable\n",
      "x1 = 2 - 3/2*x2 + 1/2*x3 - 1/2*x4 + 1*x5\n",
      "x2 = x4 is a free variable\n",
      "x3 = x5 is a free variable\n"
     ]
    }
   ],
   "source": [
    "# Test:\n",
    "coefficients_array = np.array([\n",
    "    [2, 3, -1, 1, -2],\n",
    "    [4, 6, -2, 2, -4],\n",
    "    [-2, -3, 1, -1, 2]\n",
    "])\n",
    "\n",
    "constants_array = np.array([4, 8, -4])\n",
    "\n",
    "solution, status = solve_linear_equations(coefficients_array, constants_array)\n",
    "print(\"Status:\", status)\n",
    "print(\"Solution:\", solution)\n",
    "# Format the parametric solution\n",
    "formatted_solution = format_parametric_solution(str(solution))\n",
    "\n",
    "# Print the formatted solution\n",
    "for line in formatted_solution:\n",
    "    print(line)\n"
   ]
  },
  {
   "cell_type": "markdown",
   "metadata": {},
   "source": [
    "m > n System (2 equations, 5 variables)\n",
    "\n",
    "x + y + z + w + v = 10\n",
    "\n",
    "2x + 3y + 2z + w + v = 15"
   ]
  },
  {
   "cell_type": "code",
   "execution_count": 77,
   "metadata": {},
   "outputs": [
    {
     "name": "stdout",
     "output_type": "stream",
     "text": [
      "Status: Infinite solutions\n",
      "Solution: 15.0 - 1.0*x3 - 2.0*x4 - 2.0*x5, -5.0 - -1.0*x4 - -1.0*x5, x3 is a free variable, x4 is a free variable, x5 is a free variable\n",
      "x1 = 15 - 1*x3 - 2*x4 - 2*x5\n",
      "x2 = -5 + 1*x4 + 1*x5\n",
      "x3 is a free variable\n",
      "x4 is a free variable\n",
      "x5 is a free variable\n"
     ]
    }
   ],
   "source": [
    "# Test:\n",
    "coefficients_array = np.array([\n",
    "    [1, 1, 1, 1, 1],\n",
    "    [2, 3, 2, 1, 1]\n",
    "])\n",
    "\n",
    "constants_array = np.array([10, 15])\n",
    "\n",
    "solution, status = solve_linear_equations(coefficients_array, constants_array)\n",
    "print(\"Status:\", status)\n",
    "print(\"Solution:\", solution)\n",
    "# Format the parametric solution\n",
    "formatted_solution = format_parametric_solution(str(solution))\n",
    "\n",
    "# Print the formatted solution\n",
    "for line in formatted_solution:\n",
    "    print(line)\n"
   ]
  },
  {
   "cell_type": "markdown",
   "metadata": {},
   "source": [
    "m < n (More equations than variables, no solutions)\n",
    "\n",
    "x + y + z = 6\n",
    "\n",
    "x + y - z = 4\n",
    "\n",
    "2x - 3y + 2z = 1\n",
    "\n",
    "3x + 2y + 3z = 12\n",
    "\n",
    "x - y + z = 0"
   ]
  },
  {
   "cell_type": "code",
   "execution_count": 78,
   "metadata": {},
   "outputs": [
    {
     "name": "stdout",
     "output_type": "stream",
     "text": [
      "Status: No solution\n",
      "Solution: None\n",
      "x1 = None\n"
     ]
    }
   ],
   "source": [
    "# Test:\n",
    "coefficients_array = np.array([\n",
    "    [1, 1, 1],\n",
    "    [1, 1, -1],\n",
    "    [2, -3, 2],\n",
    "    [3, 2, 3],\n",
    "    [1, -1, 1]\n",
    "])\n",
    "\n",
    "constants_array = np.array([6, 4, 1, 12, 0])\n",
    "\n",
    "solution, status = solve_linear_equations(coefficients_array, constants_array)\n",
    "print(\"Status:\", status)\n",
    "print(\"Solution:\", solution)\n",
    "# Format the parametric solution\n",
    "formatted_solution = format_parametric_solution(str(solution))\n",
    "\n",
    "# Print the formatted solution\n",
    "for line in formatted_solution:\n",
    "    print(line)\n"
   ]
  },
  {
   "cell_type": "markdown",
   "metadata": {},
   "source": [
    "Mixed Coefficients with Zero and Negative Values\n",
    "\n",
    "-x + 2y - z + 0w + 3v = 0\n",
    "\n",
    "2x - 4y + 0z - w - v = -2\n",
    "\n",
    "0x + 3y + z + w - 5v = 3"
   ]
  },
  {
   "cell_type": "code",
   "execution_count": 88,
   "metadata": {},
   "outputs": [
    {
     "name": "stdout",
     "output_type": "stream",
     "text": [
      "Status: Infinite solutions\n",
      "Solution: 0.3333333333333333 - -0.16666666666666666*x4 - -2.1666666666666665*x5, 0.6666666666666666 - 0.16666666666666666*x4 - -0.8333333333333334*x5, 1.0 - 0.5*x4 - -2.5*x5, x4 is a free variable, x5 is a free variable\n",
      "x1 = 1/3 + 1/6*x4 + 13/6*x5\n",
      "x2 = 2/3 - 1/6*x4 + 5/6*x5\n",
      "x3 = 1 - 1/2*x4 + 5/2*x5\n",
      "x4 is a free variable\n",
      "x5 is a free variable\n"
     ]
    }
   ],
   "source": [
    "# Test:\n",
    "coefficients_array = np.array([\n",
    "    [-1, 2, -1, 0, 3],\n",
    "    [2, -4, 0, -1, -1],\n",
    "    [0, 3, 1, 1, -5]\n",
    "])\n",
    "\n",
    "constants_array = np.array([0, -2, 3])\n",
    "\n",
    "solution, status = solve_linear_equations(coefficients_array, constants_array)\n",
    "print(\"Status:\", status)\n",
    "print(\"Solution:\", solution)\n",
    "# Format the parametric solution\n",
    "formatted_solution = format_parametric_solution(str(solution))\n",
    "\n",
    "# Print the formatted solution\n",
    "for line in formatted_solution:\n",
    "    print(line)\n"
   ]
  },
  {
   "cell_type": "markdown",
   "metadata": {},
   "source": [
    ">>Edge Cases"
   ]
  },
  {
   "cell_type": "markdown",
   "metadata": {},
   "source": [
    "1x1 System - Unique Solution\n",
    "\n",
    "5x = 25"
   ]
  },
  {
   "cell_type": "code",
   "execution_count": 89,
   "metadata": {},
   "outputs": [
    {
     "name": "stdout",
     "output_type": "stream",
     "text": [
      "Status: Unique solution\n",
      "Solution: [5.]\n",
      "x1 = [5.]\n"
     ]
    }
   ],
   "source": [
    "# Test:\n",
    "coefficients_array = np.array([\n",
    "    [5]\n",
    "])\n",
    "\n",
    "constants_array = np.array([25])\n",
    "\n",
    "solution, status = solve_linear_equations(coefficients_array, constants_array)\n",
    "print(\"Status:\", status)\n",
    "print(\"Solution:\", solution)\n",
    "# Format the parametric solution\n",
    "formatted_solution = format_parametric_solution(str(solution))\n",
    "\n",
    "# Print the formatted solution\n",
    "for line in formatted_solution:\n",
    "    print(line)\n"
   ]
  },
  {
   "cell_type": "markdown",
   "metadata": {},
   "source": [
    "5x5 System - No Solution (inconsistent system)\n",
    "\n",
    "x + y + z + w + v = 1\n",
    "\n",
    "x + y + z + w + v = 2\n",
    "\n",
    "x + y + z + w + v = 3\n",
    "\n",
    "x + y + z + w + v = 4\n",
    "\n",
    "x + y + z + w + v = 5"
   ]
  },
  {
   "cell_type": "code",
   "execution_count": 91,
   "metadata": {},
   "outputs": [
    {
     "name": "stdout",
     "output_type": "stream",
     "text": [
      "Status: No solution\n",
      "Solution: None\n",
      "x1 = None\n"
     ]
    }
   ],
   "source": [
    "# Test:\n",
    "coefficients_array = np.array([\n",
    "    [1, 1, 1, 1, 1],\n",
    "    [1, 1, 1, 1, 1],\n",
    "    [1, 1, 1, 1, 1],\n",
    "    [1, 1, 1, 1, 1],\n",
    "    [1, 1, 1, 1, 1]\n",
    "])\n",
    "\n",
    "constants_array = np.array([1, 2, 3, 4, 5])\n",
    "\n",
    "solution, status = solve_linear_equations(coefficients_array, constants_array)\n",
    "print(\"Status:\", status)\n",
    "print(\"Solution:\", solution)\n",
    "# Format the parametric solution\n",
    "formatted_solution = format_parametric_solution(str(solution))\n",
    "\n",
    "# Print the formatted solution\n",
    "for line in formatted_solution:\n",
    "    print(line)\n"
   ]
  }
 ],
 "metadata": {
  "kernelspec": {
   "display_name": "Python 3",
   "language": "python",
   "name": "python3"
  },
  "language_info": {
   "codemirror_mode": {
    "name": "ipython",
    "version": 3
   },
   "file_extension": ".py",
   "mimetype": "text/x-python",
   "name": "python",
   "nbconvert_exporter": "python",
   "pygments_lexer": "ipython3",
   "version": "3.10.5"
  }
 },
 "nbformat": 4,
 "nbformat_minor": 2
}
