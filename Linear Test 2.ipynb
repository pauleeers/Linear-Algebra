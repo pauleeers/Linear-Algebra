{
 "cells": [
  {
   "cell_type": "code",
   "execution_count": 1,
   "metadata": {},
   "outputs": [],
   "source": [
    "import numpy as np"
   ]
  },
  {
   "cell_type": "markdown",
   "metadata": {},
   "source": [
    "Solution Function"
   ]
  },
  {
   "cell_type": "code",
   "execution_count": 9,
   "metadata": {},
   "outputs": [],
   "source": [
    "def solve_linear_equations(coefficients, constants):\n",
    "    try:\n",
    "        # Trying to find a unique solution\n",
    "        solution = np.linalg.solve(coefficients, constants)\n",
    "    except np.linalg.LinAlgError:\n",
    "        # Handle overdetermined systems\n",
    "        solution, _, _, _ = np.linalg.lstsq(coefficients, constants, rcond=None)\n",
    "    \n",
    "    return solution\n"
   ]
  },
  {
   "cell_type": "markdown",
   "metadata": {},
   "source": [
    "Input Segment"
   ]
  },
  {
   "cell_type": "code",
   "execution_count": 3,
   "metadata": {},
   "outputs": [],
   "source": [
    "num_variables = int(input(\"Enter the number of variables (up to 5): \"))\n",
    "num_equations = int(input(\"Enter the number of equations: \"))"
   ]
  },
  {
   "cell_type": "code",
   "execution_count": 11,
   "metadata": {},
   "outputs": [],
   "source": [
    "coefficients = []\n",
    "constants = []\n",
    "\n",
    "for i in range(num_equations):\n",
    "    equation = input(f\"Enter coefficients and constant for equation {i+1}, separated by space: \")\n",
    "    values = [float(x) for x in equation.split()]\n",
    "    coefficients.append(values[:-1])  # All but last\n",
    "    constants.append(values[-1])      # Last element"
   ]
  },
  {
   "cell_type": "code",
   "execution_count": 12,
   "metadata": {},
   "outputs": [],
   "source": [
    "coefficients_array = np.array(coefficients)\n",
    "constants_array = np.array(constants)"
   ]
  },
  {
   "cell_type": "code",
   "execution_count": 13,
   "metadata": {},
   "outputs": [
    {
     "name": "stdout",
     "output_type": "stream",
     "text": [
      "Solution: [1.71260997 2.60997067 1.52492669]\n"
     ]
    }
   ],
   "source": [
    "solution = solve_linear_equations(coefficients_array, constants_array)\n",
    "print(\"Solution:\", solution)"
   ]
  }
 ],
 "metadata": {
  "kernelspec": {
   "display_name": "Python 3",
   "language": "python",
   "name": "python3"
  },
  "language_info": {
   "codemirror_mode": {
    "name": "ipython",
    "version": 3
   },
   "file_extension": ".py",
   "mimetype": "text/x-python",
   "name": "python",
   "nbconvert_exporter": "python",
   "pygments_lexer": "ipython3",
   "version": "3.10.5"
  }
 },
 "nbformat": 4,
 "nbformat_minor": 2
}
