{
 "cells": [
  {
   "cell_type": "code",
   "execution_count": 37,
   "metadata": {},
   "outputs": [],
   "source": [
    "import numpy as np\n",
    "import sympy\n",
    "import re"
   ]
  },
  {
   "cell_type": "markdown",
   "metadata": {},
   "source": [
    "Core Testing"
   ]
  },
  {
   "cell_type": "markdown",
   "metadata": {},
   "source": [
    ">Solution Function"
   ]
  },
  {
   "cell_type": "markdown",
   "metadata": {},
   "source": [
    ">>Solution Function 1"
   ]
  },
  {
   "cell_type": "code",
   "execution_count": 9,
   "metadata": {},
   "outputs": [],
   "source": [
    "def solve_linear_equations(coefficients, constants):\n",
    "    try:\n",
    "        # Trying to find a unique solution\n",
    "        solution = np.linalg.solve(coefficients, constants)\n",
    "    except np.linalg.LinAlgError:\n",
    "        # Handle overdetermined systems\n",
    "        solution, _, _, _ = np.linalg.lstsq(coefficients, constants, rcond=None)\n",
    "    \n",
    "    return solution\n"
   ]
  },
  {
   "cell_type": "markdown",
   "metadata": {},
   "source": [
    ">>Solution Function 2"
   ]
  },
  {
   "cell_type": "code",
   "execution_count": 17,
   "metadata": {},
   "outputs": [],
   "source": [
    "def solve_linear_equations(coefficients, constants):\n",
    "    try:\n",
    "        # Trying to find a unique solution\n",
    "        solution = np.linalg.solve(coefficients, constants)\n",
    "        return solution, \"Unique solution\"\n",
    "    except np.linalg.LinAlgError as e:\n",
    "        if 'Singular matrix' in str(e):\n",
    "            # This means the matrix is singular and there's no unique solution\n",
    "            # This can be due to no solutions or infinite solutions\n",
    "            # We'll use lstsq to determine which one it is\n",
    "            solution, residuals, rank, s = np.linalg.lstsq(coefficients, constants, rcond=None)\n",
    "            if residuals.size == 0 or np.allclose(residuals, 0):\n",
    "                return solution, \"Infinite solutions\"\n",
    "            else:\n",
    "                return solution, \"No solution\"\n",
    "        else:\n",
    "            # This is some other kind of linear algebra error we didn't expect\n",
    "            raise"
   ]
  },
  {
   "cell_type": "markdown",
   "metadata": {},
   "source": [
    ">>>Solution Function 3 (Handles Non-square Matrix)"
   ]
  },
  {
   "cell_type": "code",
   "execution_count": 23,
   "metadata": {},
   "outputs": [],
   "source": [
    "def solve_linear_equations(coefficients, constants):\n",
    "    # If matrix is not square, use lstsq to find the least squares solution\n",
    "    if coefficients.shape[0] != coefficients.shape[1]:\n",
    "        solution, residuals, rank, s = np.linalg.lstsq(coefficients, constants, rcond=None)\n",
    "        if residuals.size == 0 or np.allclose(residuals, 0):\n",
    "            return solution, \"Infinite solutions\"\n",
    "        else:\n",
    "            return solution, \"No solution\"\n",
    "    else:\n",
    "        try:\n",
    "            solution = np.linalg.solve(coefficients, constants)\n",
    "            return solution, \"Unique solution\"\n",
    "        except np.linalg.LinAlgError as e:\n",
    "            if 'Singular matrix' in str(e):\n",
    "                return None, \"No solution\"\n",
    "            else:\n",
    "                raise"
   ]
  },
  {
   "cell_type": "code",
   "execution_count": 31,
   "metadata": {},
   "outputs": [],
   "source": [
    "def solve_linear_equations(coefficients, constants):\n",
    "    # Perform Gaussian elimination or row reduction to obtain RREF\n",
    "    rref_matrix = np.hstack((coefficients, constants.reshape(-1, 1)))\n",
    "    rref_matrix = sympy.Matrix(rref_matrix).rref()[0]\n",
    "    rref_matrix = np.array(rref_matrix.tolist(), dtype=float)\n",
    "\n",
    "    num_rows, num_cols = rref_matrix.shape\n",
    "    free_vars = num_cols - num_rows - 1  # -1 for the constants column\n",
    "\n",
    "    if free_vars > 0:\n",
    "        # Infinite solutions, proceed to express in terms of free variables\n",
    "        solution_set = []\n",
    "        for i in range(num_rows):\n",
    "            leading_coeff = rref_matrix[i][i]\n",
    "            expression = f\"{rref_matrix[i, -1]/leading_coeff}\"\n",
    "            for j in range(i + 1, num_cols - 1):\n",
    "                if rref_matrix[i, j] != 0:\n",
    "                    expression += f\" - {rref_matrix[i, j]/leading_coeff}*x{j+1}\"\n",
    "            solution_set.append(expression)\n",
    "        # Add the free variables\n",
    "        for i in range(free_vars):\n",
    "            solution_set.append(f\"x{num_rows+i+1}\")\n",
    "        \n",
    "        parametric_solution = ', '.join(solution_set)\n",
    "        return parametric_solution, \"Infinite solutions\"\n",
    "    else:\n",
    "        # No free variables, system has a unique solution\n",
    "        solution = np.linalg.solve(coefficients, constants)\n",
    "        return solution, \"Unique solution\"\n",
    "\n",
    "\n"
   ]
  },
  {
   "cell_type": "markdown",
   "metadata": {},
   "source": [
    "System Size Checking Function"
   ]
  },
  {
   "cell_type": "code",
   "execution_count": null,
   "metadata": {},
   "outputs": [],
   "source": [
    "def check_system_size(num_equations, num_variables):\n",
    "    if num_variables > 5 or num_equations > 5:\n",
    "        raise ValueError(\"This system can only handle up to a 5x5 matrix.\")\n",
    "    if num_variables < 1 or num_equations < 1:\n",
    "        raise ValueError(\"This system requires at least a 1x1 matrix.\")\n"
   ]
  },
  {
   "cell_type": "markdown",
   "metadata": {},
   "source": [
    "Solution Formating Function"
   ]
  },
  {
   "cell_type": "code",
   "execution_count": 41,
   "metadata": {},
   "outputs": [],
   "source": [
    "def format_parametric_solution(solution_str):\n",
    "    # Split the solution string into individual variable components\n",
    "    variables = solution_str.split(',')\n",
    "\n",
    "    # Define a pattern to match the variables like 'x4' and 'x5'\n",
    "    var_pattern = re.compile(r'x\\d+')\n",
    "\n",
    "    formatted_solution = []\n",
    "\n",
    "    for i, var in enumerate(variables):\n",
    "        # Find all free variables in the expression\n",
    "        free_vars = var_pattern.findall(var)\n",
    "\n",
    "        # Correctly identify negative and positive floats\n",
    "        expr = re.sub(r'(?<!\\w)-?\\d+\\.\\d+', lambda m: f\"{float(m.group(0)):0.3f}\", var)\n",
    "\n",
    "        # If the variable part is a free variable, format it accordingly\n",
    "        if i + 1 in [int(free_var[1:]) for free_var in free_vars]:\n",
    "            formatted_solution.append(f\"x{i+1} is a free variable\")\n",
    "        else:\n",
    "            # Remove unnecessary pluses and correct double negatives\n",
    "            expr = expr.replace(' - -', ' + ').replace('+-', '-')\n",
    "            formatted_solution.append(f\"x{i+1} = {expr.strip()}\")\n",
    "\n",
    "    return formatted_solution"
   ]
  },
  {
   "cell_type": "markdown",
   "metadata": {},
   "source": [
    "Input Segment"
   ]
  },
  {
   "cell_type": "code",
   "execution_count": 24,
   "metadata": {},
   "outputs": [],
   "source": [
    "num_variables = int(input(\"Enter the number of variables (up to 5): \"))\n",
    "num_equations = int(input(\"Enter the number of equations: \"))"
   ]
  },
  {
   "cell_type": "code",
   "execution_count": 25,
   "metadata": {},
   "outputs": [],
   "source": [
    "coefficients = []\n",
    "constants = []\n",
    "\n",
    "for i in range(num_equations):\n",
    "    equation = input(f\"Enter coefficients and constant for equation {i+1}, separated by space: \")\n",
    "    values = [float(x) for x in equation.split()]\n",
    "    coefficients.append(values[:-1])  # All but last\n",
    "    constants.append(values[-1])      # Last element"
   ]
  },
  {
   "cell_type": "code",
   "execution_count": 19,
   "metadata": {},
   "outputs": [],
   "source": [
    "coefficients = []\n",
    "constants = []\n",
    "\n",
    "for i in range(num_equations):\n",
    "    # Ask the user to enter only the coefficients and constants as numbers separated by spaces\n",
    "    equation = input(f\"Enter the coefficients for equation {i+1} followed by the constant, separated by space: \")\n",
    "    \n",
    "    # Split the input string by spaces, convert each to a float, and append to the lists\n",
    "    values = [float(x) for x in equation.split()]\n",
    "    \n",
    "    # Assuming the last number is the constant, and the rest are coefficients\n",
    "    coefficients.append(values[:-1])  # All but last\n",
    "    constants.append(values[-1])      # Last element\n"
   ]
  },
  {
   "cell_type": "code",
   "execution_count": 26,
   "metadata": {},
   "outputs": [],
   "source": [
    "coefficients_array = np.array(coefficients)\n",
    "constants_array = np.array(constants)"
   ]
  },
  {
   "cell_type": "code",
   "execution_count": 27,
   "metadata": {},
   "outputs": [
    {
     "name": "stdout",
     "output_type": "stream",
     "text": [
      "Solution: (array([ 0.16975854,  0.91372203, -0.21481154,  0.41740283,  0.14355124]), 'Infinite solutions')\n"
     ]
    }
   ],
   "source": [
    "solution = solve_linear_equations(coefficients_array, constants_array)\n",
    "print(\"Solution:\", solution)"
   ]
  },
  {
   "cell_type": "markdown",
   "metadata": {},
   "source": [
    "Test"
   ]
  },
  {
   "cell_type": "markdown",
   "metadata": {},
   "source": [
    "2x + 3y - z + w - 2v = 4\n",
    "\n",
    "4x - y + 5z - 2w + v = -2\n",
    "\n",
    "-x + 2y + 3z + w - 3v = 1"
   ]
  },
  {
   "cell_type": "code",
   "execution_count": 32,
   "metadata": {},
   "outputs": [],
   "source": [
    "# Test:\n",
    "coefficients_array = np.array([\n",
    "    [2, 3, -1, 1, -2],\n",
    "    [4, -1, 5, -2, 1],\n",
    "    [-1, 2, 3, 1, -3]\n",
    "])\n",
    "\n",
    "constants_array = np.array([4, -2, 1])"
   ]
  },
  {
   "cell_type": "code",
   "execution_count": 35,
   "metadata": {},
   "outputs": [
    {
     "name": "stdout",
     "output_type": "stream",
     "text": [
      "Status: Infinite solutions\n"
     ]
    }
   ],
   "source": [
    "solution, status = solve_linear_equations(coefficients_array, constants_array)\n",
    "print(\"Status:\", status)"
   ]
  },
  {
   "cell_type": "code",
   "execution_count": 36,
   "metadata": {},
   "outputs": [
    {
     "name": "stdout",
     "output_type": "stream",
     "text": [
      "Solution: 0.19047619047619047 - -0.27380952380952384*x4 - 0.32142857142857145*x5, 1.0952380952380953 - 0.4880952380952381*x4 - -0.9642857142857143*x5, -0.3333333333333333 - -0.08333333333333333*x4 - -0.25*x5, x4, x5\n"
     ]
    }
   ],
   "source": [
    "print(\"Solution:\", solution)"
   ]
  },
  {
   "cell_type": "code",
   "execution_count": 46,
   "metadata": {},
   "outputs": [
    {
     "name": "stdout",
     "output_type": "stream",
     "text": [
      "x1 = 0.190 + 0.274*x4 - 0.321*x5\n",
      "x2 = 1.095 - 0.488*x4 + 0.964*x5\n",
      "x3 = -0.333 + 0.083*x4 + 0.250*x5\n",
      "x4 is a free variable\n",
      "x5 is a free variable\n"
     ]
    }
   ],
   "source": [
    "# Format the parametric solution\n",
    "formatted_solution = format_parametric_solution(str(solution))\n",
    "\n",
    "# Print the formatted solution\n",
    "for line in formatted_solution:\n",
    "    print(line)\n"
   ]
  }
 ],
 "metadata": {
  "kernelspec": {
   "display_name": "Python 3",
   "language": "python",
   "name": "python3"
  },
  "language_info": {
   "codemirror_mode": {
    "name": "ipython",
    "version": 3
   },
   "file_extension": ".py",
   "mimetype": "text/x-python",
   "name": "python",
   "nbconvert_exporter": "python",
   "pygments_lexer": "ipython3",
   "version": "3.10.5"
  }
 },
 "nbformat": 4,
 "nbformat_minor": 2
}
