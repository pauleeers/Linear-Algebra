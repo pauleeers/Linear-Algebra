{
 "cells": [
  {
   "cell_type": "code",
   "execution_count": 1,
   "metadata": {},
   "outputs": [],
   "source": [
    "import numpy as np"
   ]
  },
  {
   "cell_type": "markdown",
   "metadata": {},
   "source": [
    "Core Testing"
   ]
  },
  {
   "cell_type": "markdown",
   "metadata": {},
   "source": [
    ">Solution Function"
   ]
  },
  {
   "cell_type": "markdown",
   "metadata": {},
   "source": [
    ">>Solution Function 1"
   ]
  },
  {
   "cell_type": "code",
   "execution_count": 9,
   "metadata": {},
   "outputs": [],
   "source": [
    "def solve_linear_equations(coefficients, constants):\n",
    "    try:\n",
    "        # Trying to find a unique solution\n",
    "        solution = np.linalg.solve(coefficients, constants)\n",
    "    except np.linalg.LinAlgError:\n",
    "        # Handle overdetermined systems\n",
    "        solution, _, _, _ = np.linalg.lstsq(coefficients, constants, rcond=None)\n",
    "    \n",
    "    return solution\n"
   ]
  },
  {
   "cell_type": "markdown",
   "metadata": {},
   "source": [
    ">>Solution Function 2"
   ]
  },
  {
   "cell_type": "code",
   "execution_count": 17,
   "metadata": {},
   "outputs": [],
   "source": [
    "def solve_linear_equations(coefficients, constants):\n",
    "    try:\n",
    "        # Trying to find a unique solution\n",
    "        solution = np.linalg.solve(coefficients, constants)\n",
    "        return solution, \"Unique solution\"\n",
    "    except np.linalg.LinAlgError as e:\n",
    "        if 'Singular matrix' in str(e):\n",
    "            # This means the matrix is singular and there's no unique solution\n",
    "            # This can be due to no solutions or infinite solutions\n",
    "            # We'll use lstsq to determine which one it is\n",
    "            solution, residuals, rank, s = np.linalg.lstsq(coefficients, constants, rcond=None)\n",
    "            if residuals.size == 0 or np.allclose(residuals, 0):\n",
    "                return solution, \"Infinite solutions\"\n",
    "            else:\n",
    "                return solution, \"No solution\"\n",
    "        else:\n",
    "            # This is some other kind of linear algebra error we didn't expect\n",
    "            raise"
   ]
  },
  {
   "cell_type": "markdown",
   "metadata": {},
   "source": [
    ">>>Solution Function 3 (Handles Non-square Matrix)"
   ]
  },
  {
   "cell_type": "code",
   "execution_count": 23,
   "metadata": {},
   "outputs": [],
   "source": [
    "def solve_linear_equations(coefficients, constants):\n",
    "    # If matrix is not square, use lstsq to find the least squares solution\n",
    "    if coefficients.shape[0] != coefficients.shape[1]:\n",
    "        solution, residuals, rank, s = np.linalg.lstsq(coefficients, constants, rcond=None)\n",
    "        if residuals.size == 0 or np.allclose(residuals, 0):\n",
    "            return solution, \"Infinite solutions\"\n",
    "        else:\n",
    "            return solution, \"No solution\"\n",
    "    else:\n",
    "        try:\n",
    "            solution = np.linalg.solve(coefficients, constants)\n",
    "            return solution, \"Unique solution\"\n",
    "        except np.linalg.LinAlgError as e:\n",
    "            if 'Singular matrix' in str(e):\n",
    "                return None, \"No solution\"\n",
    "            else:\n",
    "                raise"
   ]
  },
  {
   "cell_type": "markdown",
   "metadata": {},
   "source": [
    "System Size Checking Function"
   ]
  },
  {
   "cell_type": "code",
   "execution_count": null,
   "metadata": {},
   "outputs": [],
   "source": [
    "def check_system_size(num_equations, num_variables):\n",
    "    if num_variables > 5 or num_equations > 5:\n",
    "        raise ValueError(\"This system can only handle up to a 5x5 matrix.\")\n",
    "    if num_variables < 1 or num_equations < 1:\n",
    "        raise ValueError(\"This system requires at least a 1x1 matrix.\")\n"
   ]
  },
  {
   "cell_type": "markdown",
   "metadata": {},
   "source": [
    "Input Segment"
   ]
  },
  {
   "cell_type": "code",
   "execution_count": 24,
   "metadata": {},
   "outputs": [],
   "source": [
    "num_variables = int(input(\"Enter the number of variables (up to 5): \"))\n",
    "num_equations = int(input(\"Enter the number of equations: \"))"
   ]
  },
  {
   "cell_type": "code",
   "execution_count": 25,
   "metadata": {},
   "outputs": [],
   "source": [
    "coefficients = []\n",
    "constants = []\n",
    "\n",
    "for i in range(num_equations):\n",
    "    equation = input(f\"Enter coefficients and constant for equation {i+1}, separated by space: \")\n",
    "    values = [float(x) for x in equation.split()]\n",
    "    coefficients.append(values[:-1])  # All but last\n",
    "    constants.append(values[-1])      # Last element"
   ]
  },
  {
   "cell_type": "code",
   "execution_count": 19,
   "metadata": {},
   "outputs": [],
   "source": [
    "coefficients = []\n",
    "constants = []\n",
    "\n",
    "for i in range(num_equations):\n",
    "    # Ask the user to enter only the coefficients and constants as numbers separated by spaces\n",
    "    equation = input(f\"Enter the coefficients for equation {i+1} followed by the constant, separated by space: \")\n",
    "    \n",
    "    # Split the input string by spaces, convert each to a float, and append to the lists\n",
    "    values = [float(x) for x in equation.split()]\n",
    "    \n",
    "    # Assuming the last number is the constant, and the rest are coefficients\n",
    "    coefficients.append(values[:-1])  # All but last\n",
    "    constants.append(values[-1])      # Last element\n"
   ]
  },
  {
   "cell_type": "code",
   "execution_count": 26,
   "metadata": {},
   "outputs": [],
   "source": [
    "coefficients_array = np.array(coefficients)\n",
    "constants_array = np.array(constants)"
   ]
  },
  {
   "cell_type": "code",
   "execution_count": 27,
   "metadata": {},
   "outputs": [
    {
     "name": "stdout",
     "output_type": "stream",
     "text": [
      "Solution: (array([ 0.16975854,  0.91372203, -0.21481154,  0.41740283,  0.14355124]), 'Infinite solutions')\n"
     ]
    }
   ],
   "source": [
    "solution = solve_linear_equations(coefficients_array, constants_array)\n",
    "print(\"Solution:\", solution)"
   ]
  },
  {
   "cell_type": "code",
   "execution_count": null,
   "metadata": {},
   "outputs": [],
   "source": []
  }
 ],
 "metadata": {
  "kernelspec": {
   "display_name": "Python 3",
   "language": "python",
   "name": "python3"
  },
  "language_info": {
   "codemirror_mode": {
    "name": "ipython",
    "version": 3
   },
   "file_extension": ".py",
   "mimetype": "text/x-python",
   "name": "python",
   "nbconvert_exporter": "python",
   "pygments_lexer": "ipython3",
   "version": "3.10.5"
  }
 },
 "nbformat": 4,
 "nbformat_minor": 2
}
