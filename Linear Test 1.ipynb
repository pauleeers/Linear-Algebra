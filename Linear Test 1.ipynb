{
 "cells": [
  {
   "cell_type": "markdown",
   "metadata": {},
   "source": [
    "Imports"
   ]
  },
  {
   "cell_type": "code",
   "execution_count": 3,
   "metadata": {},
   "outputs": [],
   "source": [
    "import tkinter as tk\n",
    "from tkinter import messagebox\n",
    "import numpy as np\n",
    "import re"
   ]
  },
  {
   "cell_type": "markdown",
   "metadata": {},
   "source": [
    "Functions"
   ]
  },
  {
   "cell_type": "code",
   "execution_count": 6,
   "metadata": {},
   "outputs": [],
   "source": [
    "def parse_equation(equation, variables):\n",
    "    # Regular expression to extract coefficients\n",
    "    terms = re.findall(r'([+-]?[^-+]+)', equation.replace(\" \", \"\"))\n",
    "    coeff_dict = {}\n",
    "    for term in terms:\n",
    "        coeff, var = re.match(r'([+-]?[\\d\\.]*)([a-z])', term).groups()\n",
    "        coeff = float(coeff) if coeff not in [\"+\", \"-\"] else 1.0 if coeff == \"+\" else -1.0\n",
    "        coeff_dict[var] = coeff\n",
    "    return [coeff_dict.get(var, 0) for var in variables]\n",
    "\n",
    "def input_equations():\n",
    "    num_equations = int(input(\"Enter the number of equations: \"))\n",
    "    equations = [input(f\"Equation {i+1}: \") for i in range(num_equations)]\n",
    "\n",
    "    # Extract all variables\n",
    "    variables = sorted(set(re.findall(r'[a-z]', \"\".join(equations))))\n",
    "    if len(variables) > 5:\n",
    "        raise ValueError(\"Only up to 5 variables are allowed\")\n",
    "\n",
    "    matrix = [parse_equation(eq.split(\"=\")[0], variables) for eq in equations]\n",
    "    vector = [float(eq.split(\"=\")[1]) for eq in equations]\n",
    "\n",
    "    return np.array(matrix), np.array(vector)\n",
    "\n",
    "def solve_linear_system(matrix, vector):\n",
    "    m, n = matrix.shape\n",
    "    augmented_matrix = np.hstack((matrix, vector.reshape(-1, 1)))\n",
    "\n",
    "    rank_matrix = np.linalg.matrix_rank(matrix)\n",
    "    rank_augmented = np.linalg.matrix_rank(augmented_matrix)\n",
    "\n",
    "    if rank_matrix < rank_augmented:\n",
    "        return \"No solution\"\n",
    "    elif rank_matrix == rank_augmented:\n",
    "        if rank_matrix == min(m, n):\n",
    "            # Unique solution\n",
    "            try:\n",
    "                # Assuming a unique solution for simplicity\n",
    "                solution = np.linalg.solve(matrix, vector)\n",
    "                return solution\n",
    "            except np.linalg.LinAlgError:\n",
    "                return \"No solution (singular matrix)\"\n",
    "        else:\n",
    "            # Infinite solutions\n",
    "            return \"Infinite solutions\"\n",
    "    else:\n",
    "        return \"Unexpected case\"\n",
    "    \n",
    "    \n",
    "def solve():\n",
    "    equations = text_input.get(\"1.0\", \"end-1c\").splitlines()\n",
    "    variables = sorted(set(re.findall(r'[a-z]', \"\".join(equations))))\n",
    "    if len(variables) > 5:\n",
    "        messagebox.showerror(\"Error\", \"Only up to 5 variables are allowed\")\n",
    "        return\n",
    "\n",
    "    try:\n",
    "        matrix = [parse_equation(eq.split(\"=\")[0], variables) for eq in equations]\n",
    "        vector = [float(eq.split(\"=\")[1]) for eq in equations]\n",
    "        solution = solve_linear_system(np.array(matrix), np.array(vector))\n",
    "    except Exception as e:\n",
    "        messagebox.showerror(\"Error\", f\"Invalid input format: {e}\")\n",
    "        return\n",
    "\n",
    "    solution_str = ', '.join(f\"{var} = {sol:.2f}\" for var, sol in zip(variables, solution))\n",
    "    result_text.set(f\"Solution is: ({solution_str})\")\n",
    "\n",
    "def create_gui():\n",
    "    global text_input, result_text\n",
    "    window = tk.Tk()\n",
    "    window.title(\"Linear Equation Solver\")\n",
    "\n",
    "    tk.Label(window, text=\"Enter your equations:\").pack()\n",
    "    text_input = tk.Text(window, height=10, width=50)\n",
    "    text_input.pack()\n",
    "\n",
    "    solve_button = tk.Button(window, text=\"Solve\", command=solve)\n",
    "    solve_button.pack()\n",
    "\n",
    "    result_text = tk.StringVar()\n",
    "    tk.Label(window, textvariable=result_text).pack()\n",
    "\n",
    "    window.mainloop()"
   ]
  },
  {
   "cell_type": "markdown",
   "metadata": {},
   "source": [
    "Run Code"
   ]
  },
  {
   "cell_type": "code",
   "execution_count": 9,
   "metadata": {},
   "outputs": [
    {
     "name": "stderr",
     "output_type": "stream",
     "text": [
      "Exception in Tkinter callback\n",
      "Traceback (most recent call last):\n",
      "  File \"c:\\Users\\LENOVO\\AppData\\Local\\Programs\\Python\\Python310\\lib\\tkinter\\__init__.py\", line 1921, in __call__\n",
      "    return self.func(*args)\n",
      "  File \"C:\\Users\\LENOVO\\AppData\\Local\\Temp\\ipykernel_14276\\74427712.py\", line 65, in solve\n",
      "    solution_str = ', '.join(f\"{var} = {sol:.2f}\" for var, sol in zip(variables, solution))\n",
      "  File \"C:\\Users\\LENOVO\\AppData\\Local\\Temp\\ipykernel_14276\\74427712.py\", line 65, in <genexpr>\n",
      "    solution_str = ', '.join(f\"{var} = {sol:.2f}\" for var, sol in zip(variables, solution))\n",
      "ValueError: Unknown format code 'f' for object of type 'str'\n",
      "Exception in Tkinter callback\n",
      "Traceback (most recent call last):\n",
      "  File \"c:\\Users\\LENOVO\\AppData\\Local\\Programs\\Python\\Python310\\lib\\tkinter\\__init__.py\", line 1921, in __call__\n",
      "    return self.func(*args)\n",
      "  File \"C:\\Users\\LENOVO\\AppData\\Local\\Temp\\ipykernel_14276\\74427712.py\", line 65, in solve\n",
      "    solution_str = ', '.join(f\"{var} = {sol:.2f}\" for var, sol in zip(variables, solution))\n",
      "  File \"C:\\Users\\LENOVO\\AppData\\Local\\Temp\\ipykernel_14276\\74427712.py\", line 65, in <genexpr>\n",
      "    solution_str = ', '.join(f\"{var} = {sol:.2f}\" for var, sol in zip(variables, solution))\n",
      "ValueError: Unknown format code 'f' for object of type 'str'\n"
     ]
    }
   ],
   "source": [
    "if __name__ == \"__main__\":\n",
    "    create_gui()"
   ]
  }
 ],
 "metadata": {
  "kernelspec": {
   "display_name": "Python 3",
   "language": "python",
   "name": "python3"
  },
  "language_info": {
   "codemirror_mode": {
    "name": "ipython",
    "version": 3
   },
   "file_extension": ".py",
   "mimetype": "text/x-python",
   "name": "python",
   "nbconvert_exporter": "python",
   "pygments_lexer": "ipython3",
   "version": "3.10.5"
  }
 },
 "nbformat": 4,
 "nbformat_minor": 2
}
